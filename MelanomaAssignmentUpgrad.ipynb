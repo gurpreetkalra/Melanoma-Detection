{
 "cells": [
  {
   "cell_type": "code",
   "execution_count": 107,
   "id": "2877d5bd",
   "metadata": {},
   "outputs": [],
   "source": [
    "import os\n",
    "import pathlib\n",
    "import pandas as pd\n",
    "import tensorflow as tf\n",
    "import matplotlib.pyplot as plt\n",
    "from tensorflow import keras\n",
    "from tensorflow.keras import layers\n",
    "from keras.layers import Dense, Flatten, Conv2D, MaxPool2D, Dropout,BatchNormalization\n",
    "from keras import Sequential,Model\n",
    "from tensorflow.keras.models import Sequential\n",
    "from tensorflow.keras.optimizers import Adam\n",
    "from keras.callbacks  import ReduceLROnPlateau\n",
    "from tensorflow.keras.losses import CategoricalCrossentropy\n",
    "\n",
    "from tensorflow.keras import layers, models\n",
    "\n",
    "from tensorflow.keras.preprocessing.image import load_img"
   ]
  },
  {
   "cell_type": "code",
   "execution_count": 108,
   "id": "5d1e0a03",
   "metadata": {},
   "outputs": [],
   "source": [
    "train_images_path = 'Skin cancer ISIC The International Skin Imaging Collaboration/Train/'\n",
    "test_images_path = 'Skin cancer ISIC The International Skin Imaging Collaboration/Test/'"
   ]
  },
  {
   "cell_type": "code",
   "execution_count": 109,
   "id": "fff94fde",
   "metadata": {},
   "outputs": [
    {
     "name": "stdout",
     "output_type": "stream",
     "text": [
      "2239\n"
     ]
    }
   ],
   "source": [
    "train_images = pathlib.Path(train_images_path)\n",
    "image_count_train = len(list(train_images.glob('*/*.jpg')))\n",
    "print(image_count_train)"
   ]
  },
  {
   "cell_type": "code",
   "execution_count": 110,
   "id": "6fec0eff",
   "metadata": {},
   "outputs": [
    {
     "name": "stdout",
     "output_type": "stream",
     "text": [
      "118\n"
     ]
    }
   ],
   "source": [
    "test_images = pathlib.Path(test_images_path)\n",
    "image_count_test = len(list(test_images.glob('*/*.jpg')))\n",
    "print(image_count_test)"
   ]
  },
  {
   "cell_type": "code",
   "execution_count": 111,
   "id": "95400e7b",
   "metadata": {},
   "outputs": [],
   "source": [
    "BATCH_SIZE = 32\n",
    "IMG_HEIGHT = 180\n",
    "IMG_WIDTH = 180"
   ]
  },
  {
   "cell_type": "code",
   "execution_count": 112,
   "id": "9a88a9bd",
   "metadata": {},
   "outputs": [
    {
     "name": "stdout",
     "output_type": "stream",
     "text": [
      "Found 2239 files belonging to 9 classes.\n",
      "Using 1792 files for training.\n"
     ]
    }
   ],
   "source": [
    "train_ds = tf.keras.preprocessing.image_dataset_from_directory(train_images,\n",
    "                                                               seed=123,\n",
    "                                                               validation_split=0.2,\n",
    "                                                               image_size=(IMG_HEIGHT,IMG_WIDTH),\n",
    "                                                               batch_size=BATCH_SIZE, \n",
    "                                                               label_mode='categorical',\n",
    "                                                               subset='training')"
   ]
  },
  {
   "cell_type": "code",
   "execution_count": 113,
   "id": "6a921cb0",
   "metadata": {},
   "outputs": [
    {
     "name": "stdout",
     "output_type": "stream",
     "text": [
      "Found 2239 files belonging to 9 classes.\n",
      "Using 447 files for validation.\n"
     ]
    }
   ],
   "source": [
    "# Loading the validation data\n",
    "# using seed=123 while creating dataset using tf.keras.preprocessing.image_dataset_from_directory\n",
    "# resizing images to the size img_height*img_width, while writting the dataset\n",
    "val_ds = tf.keras.preprocessing.image_dataset_from_directory(train_images,\n",
    "                                                             seed=123,\n",
    "                                                             validation_split=0.2,\n",
    "                                                             image_size=(IMG_HEIGHT,IMG_WIDTH),\n",
    "                                                             batch_size=BATCH_SIZE, \n",
    "                                                             label_mode='categorical',\n",
    "                                                             subset='validation')\n",
    " "
   ]
  },
  {
   "cell_type": "code",
   "execution_count": 114,
   "id": "e1866ae8",
   "metadata": {},
   "outputs": [
    {
     "data": {
      "text/html": [
       "<div>\n",
       "<style scoped>\n",
       "    .dataframe tbody tr th:only-of-type {\n",
       "        vertical-align: middle;\n",
       "    }\n",
       "\n",
       "    .dataframe tbody tr th {\n",
       "        vertical-align: top;\n",
       "    }\n",
       "\n",
       "    .dataframe thead th {\n",
       "        text-align: right;\n",
       "    }\n",
       "</style>\n",
       "<table border=\"1\" class=\"dataframe\">\n",
       "  <thead>\n",
       "    <tr style=\"text-align: right;\">\n",
       "      <th></th>\n",
       "      <th>Class</th>\n",
       "      <th>No. of Image</th>\n",
       "    </tr>\n",
       "  </thead>\n",
       "  <tbody>\n",
       "    <tr>\n",
       "      <th>0</th>\n",
       "      <td>actinic keratosis</td>\n",
       "      <td>114</td>\n",
       "    </tr>\n",
       "    <tr>\n",
       "      <th>1</th>\n",
       "      <td>basal cell carcinoma</td>\n",
       "      <td>376</td>\n",
       "    </tr>\n",
       "    <tr>\n",
       "      <th>2</th>\n",
       "      <td>dermatofibroma</td>\n",
       "      <td>95</td>\n",
       "    </tr>\n",
       "    <tr>\n",
       "      <th>3</th>\n",
       "      <td>melanoma</td>\n",
       "      <td>438</td>\n",
       "    </tr>\n",
       "    <tr>\n",
       "      <th>4</th>\n",
       "      <td>nevus</td>\n",
       "      <td>357</td>\n",
       "    </tr>\n",
       "    <tr>\n",
       "      <th>5</th>\n",
       "      <td>pigmented benign keratosis</td>\n",
       "      <td>462</td>\n",
       "    </tr>\n",
       "    <tr>\n",
       "      <th>6</th>\n",
       "      <td>seborrheic keratosis</td>\n",
       "      <td>77</td>\n",
       "    </tr>\n",
       "    <tr>\n",
       "      <th>7</th>\n",
       "      <td>squamous cell carcinoma</td>\n",
       "      <td>181</td>\n",
       "    </tr>\n",
       "    <tr>\n",
       "      <th>8</th>\n",
       "      <td>vascular lesion</td>\n",
       "      <td>139</td>\n",
       "    </tr>\n",
       "  </tbody>\n",
       "</table>\n",
       "</div>"
      ],
      "text/plain": [
       "                        Class  No. of Image\n",
       "0           actinic keratosis           114\n",
       "1        basal cell carcinoma           376\n",
       "2              dermatofibroma            95\n",
       "3                    melanoma           438\n",
       "4                       nevus           357\n",
       "5  pigmented benign keratosis           462\n",
       "6        seborrheic keratosis            77\n",
       "7     squamous cell carcinoma           181\n",
       "8             vascular lesion           139"
      ]
     },
     "execution_count": 114,
     "metadata": {},
     "output_type": "execute_result"
    }
   ],
   "source": [
    "##Find the distribution of classes in the training dataset\n",
    "def class_distribution_count(directory):\n",
    "\n",
    "    #count number of image in each classes\n",
    "    count= []\n",
    "    for path in pathlib.Path(directory).iterdir():\n",
    "        if path.is_dir():\n",
    "            count.append(len([name for name in os.listdir(path)\n",
    "                               if os.path.isfile(os.path.join(path, name))]))\n",
    "\n",
    "    #name of the classes\n",
    "    sub_directory = [name for name in os.listdir(directory)\n",
    "                    if os.path.isdir(os.path.join(directory, name))]\n",
    "\n",
    "    #return dataframe with image count and class.\n",
    "    return pd.DataFrame(list(zip(sub_directory,count)),columns =['Class', 'No. of Image'])\n",
    "\n",
    "df = class_distribution_count(train_images_path)\n",
    "df"
   ]
  },
  {
   "cell_type": "code",
   "execution_count": 115,
   "id": "ab436307",
   "metadata": {},
   "outputs": [],
   "source": [
    "# !pip install Augmentor"
   ]
  },
  {
   "cell_type": "code",
   "execution_count": 116,
   "id": "9c98b170",
   "metadata": {},
   "outputs": [],
   "source": [
    "# print(train_images)\n",
    "# print(train_images_path)"
   ]
  },
  {
   "cell_type": "code",
   "execution_count": 117,
   "id": "1b483b7f",
   "metadata": {},
   "outputs": [],
   "source": []
  },
  {
   "cell_type": "code",
   "execution_count": 118,
   "id": "b979f12b",
   "metadata": {},
   "outputs": [
    {
     "name": "stdout",
     "output_type": "stream",
     "text": [
      "0\n"
     ]
    }
   ],
   "source": [
    "#Count total number of image generated by Augmentor.\n",
    "# for i in class_names:\n",
    "#     train_images_sub = train_images /  i / \"output/\"\n",
    "#     image_count_train = len(list(train_images_sub.glob('*.jpg')))\n",
    "#     print(train_images_sub)\n",
    "#     print(image_count_train)\n",
    "image_count_train = len(list(train_images.glob('*/output/*.jpg')))\n",
    "print(image_count_train)"
   ]
  },
  {
   "cell_type": "code",
   "execution_count": 119,
   "id": "9a35c9a9",
   "metadata": {},
   "outputs": [],
   "source": [
    "AUTOTUNE = tf.data.experimental.AUTOTUNE\n",
    "train_ds = train_ds.cache().shuffle(1000).prefetch(buffer_size=AUTOTUNE)\n",
    "val_ds = val_ds.cache().prefetch(buffer_size=AUTOTUNE)"
   ]
  },
  {
   "cell_type": "code",
   "execution_count": 120,
   "id": "ffe1b9ea",
   "metadata": {},
   "outputs": [],
   "source": [
    "# data_augmentation = tf.keras.Sequential(\n",
    "#   [\n",
    "#     layers.experimental.preprocessing.RandomFlip(\"horizontal_and_vertical\", \n",
    "#                                                  input_shape=(IMG_HEIGHT, \n",
    "#                                                               IMG_WIDTH,\n",
    "#                                                               3)),\n",
    "#     layers.experimental.preprocessing.RandomRotation(0.2),\n",
    "#     layers.experimental.preprocessing.RandomZoom(0.2),\n",
    "#     layers.experimental.preprocessing.RandomContrast(0.1)\n",
    "#   ]\n",
    "# )"
   ]
  },
  {
   "cell_type": "code",
   "execution_count": 121,
   "id": "7c4aea2b",
   "metadata": {},
   "outputs": [],
   "source": [
    "# 1. Building the CNN Model\n",
    "model = models.Sequential([\n",
    "    # Rescaling layer to normalize pixel values\n",
    "    layers.Rescaling(1./255, input_shape=(IMG_HEIGHT, IMG_WIDTH, 3)),\n",
    "    \n",
    "    # Convolutional and pooling layers\n",
    "    layers.Conv2D(32, (3, 3), activation='relu'),\n",
    "    layers.MaxPooling2D((2, 2)),\n",
    "    layers.Conv2D(64, (3, 3), activation='relu'),\n",
    "    layers.MaxPooling2D((2, 2)),\n",
    "    layers.Conv2D(128, (3, 3), activation='relu'),\n",
    "    layers.MaxPooling2D((2, 2)),\n",
    "    \n",
    "    # Flatten and dense layers\n",
    "    layers.Flatten(),\n",
    "    layers.Dense(128, activation='relu'),\n",
    "    layers.Dense(9, activation='softmax')  # 9 classes\n",
    "])"
   ]
  },
  {
   "cell_type": "code",
   "execution_count": 122,
   "id": "d6862cef",
   "metadata": {},
   "outputs": [],
   "source": [
    "model.compile(optimizer=Adam(),\n",
    "              loss=CategoricalCrossentropy(),\n",
    "              metrics=['accuracy'])\n"
   ]
  },
  {
   "cell_type": "code",
   "execution_count": 123,
   "id": "b85c1693",
   "metadata": {},
   "outputs": [
    {
     "name": "stdout",
     "output_type": "stream",
     "text": [
      "Model: \"sequential_10\"\n",
      "_________________________________________________________________\n",
      " Layer (type)                Output Shape              Param #   \n",
      "=================================================================\n",
      " rescaling_7 (Rescaling)     (None, 180, 180, 3)       0         \n",
      "                                                                 \n",
      " conv2d_38 (Conv2D)          (None, 178, 178, 32)      896       \n",
      "                                                                 \n",
      " max_pooling2d_38 (MaxPooli  (None, 89, 89, 32)        0         \n",
      " ng2D)                                                           \n",
      "                                                                 \n",
      " conv2d_39 (Conv2D)          (None, 87, 87, 64)        18496     \n",
      "                                                                 \n",
      " max_pooling2d_39 (MaxPooli  (None, 43, 43, 64)        0         \n",
      " ng2D)                                                           \n",
      "                                                                 \n",
      " conv2d_40 (Conv2D)          (None, 41, 41, 128)       73856     \n",
      "                                                                 \n",
      " max_pooling2d_40 (MaxPooli  (None, 20, 20, 128)       0         \n",
      " ng2D)                                                           \n",
      "                                                                 \n",
      " flatten_7 (Flatten)         (None, 51200)             0         \n",
      "                                                                 \n",
      " dense_16 (Dense)            (None, 128)               6553728   \n",
      "                                                                 \n",
      " dense_17 (Dense)            (None, 9)                 1161      \n",
      "                                                                 \n",
      "=================================================================\n",
      "Total params: 6648137 (25.36 MB)\n",
      "Trainable params: 6648137 (25.36 MB)\n",
      "Non-trainable params: 0 (0.00 Byte)\n",
      "_________________________________________________________________\n"
     ]
    }
   ],
   "source": [
    "# View the summary of all layers\n",
    "model.summary()"
   ]
  },
  {
   "cell_type": "code",
   "execution_count": 124,
   "id": "991947ce",
   "metadata": {},
   "outputs": [
    {
     "name": "stdout",
     "output_type": "stream",
     "text": [
      "Epoch 1/20\n",
      "56/56 [==============================] - 22s 333ms/step - loss: 2.0859 - accuracy: 0.2176 - val_loss: 1.8935 - val_accuracy: 0.2998\n",
      "Epoch 2/20\n",
      "56/56 [==============================] - 18s 323ms/step - loss: 1.7738 - accuracy: 0.3689 - val_loss: 1.7622 - val_accuracy: 0.3512\n",
      "Epoch 3/20\n",
      "56/56 [==============================] - 18s 325ms/step - loss: 1.5363 - accuracy: 0.4743 - val_loss: 1.4394 - val_accuracy: 0.5168\n",
      "Epoch 4/20\n",
      "56/56 [==============================] - 18s 324ms/step - loss: 1.3987 - accuracy: 0.5112 - val_loss: 1.5927 - val_accuracy: 0.4072\n",
      "Epoch 5/20\n",
      "56/56 [==============================] - 19s 345ms/step - loss: 1.3369 - accuracy: 0.5285 - val_loss: 1.4033 - val_accuracy: 0.5436\n",
      "Epoch 6/20\n",
      "56/56 [==============================] - 19s 348ms/step - loss: 1.2329 - accuracy: 0.5731 - val_loss: 1.4716 - val_accuracy: 0.4944\n",
      "Epoch 7/20\n",
      "56/56 [==============================] - 20s 351ms/step - loss: 1.2155 - accuracy: 0.5692 - val_loss: 1.5077 - val_accuracy: 0.5168\n",
      "Epoch 8/20\n",
      "56/56 [==============================] - 21s 367ms/step - loss: 1.0795 - accuracy: 0.6099 - val_loss: 1.4867 - val_accuracy: 0.5123\n",
      "Epoch 9/20\n",
      "56/56 [==============================] - 21s 377ms/step - loss: 1.0276 - accuracy: 0.6406 - val_loss: 1.5316 - val_accuracy: 0.5190\n",
      "Epoch 10/20\n",
      "56/56 [==============================] - 21s 373ms/step - loss: 0.8766 - accuracy: 0.6808 - val_loss: 1.7464 - val_accuracy: 0.4676\n",
      "Epoch 11/20\n",
      "56/56 [==============================] - 21s 367ms/step - loss: 0.8334 - accuracy: 0.7015 - val_loss: 1.6201 - val_accuracy: 0.5168\n",
      "Epoch 12/20\n",
      "56/56 [==============================] - 22s 385ms/step - loss: 0.7751 - accuracy: 0.7277 - val_loss: 1.8288 - val_accuracy: 0.4743\n",
      "Epoch 13/20\n",
      "56/56 [==============================] - 22s 386ms/step - loss: 0.6883 - accuracy: 0.7634 - val_loss: 1.9495 - val_accuracy: 0.5235\n",
      "Epoch 14/20\n",
      "56/56 [==============================] - 22s 391ms/step - loss: 0.5779 - accuracy: 0.7879 - val_loss: 1.8759 - val_accuracy: 0.5391\n",
      "Epoch 15/20\n",
      "56/56 [==============================] - 22s 387ms/step - loss: 0.5616 - accuracy: 0.8002 - val_loss: 1.9088 - val_accuracy: 0.4855\n",
      "Epoch 16/20\n",
      "56/56 [==============================] - 22s 402ms/step - loss: 0.4400 - accuracy: 0.8438 - val_loss: 2.0472 - val_accuracy: 0.5078\n",
      "Epoch 17/20\n",
      "56/56 [==============================] - 23s 409ms/step - loss: 0.4223 - accuracy: 0.8465 - val_loss: 2.5262 - val_accuracy: 0.5213\n",
      "Epoch 18/20\n",
      "56/56 [==============================] - 22s 396ms/step - loss: 0.3805 - accuracy: 0.8666 - val_loss: 2.1806 - val_accuracy: 0.5526\n",
      "Epoch 19/20\n",
      "56/56 [==============================] - 22s 400ms/step - loss: 0.2840 - accuracy: 0.8917 - val_loss: 2.5184 - val_accuracy: 0.4899\n",
      "Epoch 20/20\n",
      "56/56 [==============================] - 22s 401ms/step - loss: 0.2654 - accuracy: 0.9051 - val_loss: 2.4103 - val_accuracy: 0.4855\n"
     ]
    }
   ],
   "source": [
    "epochs = 20\n",
    "\n",
    "history = model.fit(\n",
    "  train_ds,\n",
    "  validation_data=val_ds,\n",
    "  epochs=epochs \n",
    ")"
   ]
  },
  {
   "cell_type": "code",
   "execution_count": 125,
   "id": "723b55b2",
   "metadata": {},
   "outputs": [
    {
     "data": {
      "image/png": "[encoded data removed]",
      "text/plain": [
       "<Figure size 800x800 with 2 Axes>"
      ]
     },
     "metadata": {},
     "output_type": "display_data"
    }
   ],
   "source": [
    "acc = history.history['accuracy']\n",
    "val_acc = history.history['val_accuracy']\n",
    "\n",
    "loss = history.history['loss']\n",
    "val_loss = history.history['val_loss']\n",
    "\n",
    "epochs_range = range(epochs)\n",
    "\n",
    "plt.figure(figsize=(8, 8))\n",
    "plt.subplot(1, 2, 1)\n",
    "plt.plot(epochs_range, acc, label='Training Accuracy')\n",
    "plt.plot(epochs_range, val_acc, label='Validation Accuracy')\n",
    "plt.legend(loc='lower right')\n",
    "plt.title('Training and Validation Accuracy')\n",
    "\n",
    "plt.subplot(1, 2, 2)\n",
    "plt.plot(epochs_range, loss, label='Training Loss')\n",
    "plt.plot(epochs_range, val_loss, label='Validation Loss')\n",
    "plt.legend(loc='upper right')\n",
    "plt.title('Training and Validation Loss')\n",
    "plt.show()"
   ]
  },
  {
   "cell_type": "code",
   "execution_count": 127,
   "id": "5c4e1ca8",
   "metadata": {},
   "outputs": [
    {
     "name": "stdout",
     "output_type": "stream",
     "text": [
      "Initialised with 114 image(s) found.\n",
      "Output directory set to Skin cancer ISIC The International Skin Imaging Collaboration\\Train\\actinic keratosis\\output."
     ]
    },
    {
     "name": "stderr",
     "output_type": "stream",
     "text": [
      "Processing <PIL.Image.Image image mode=RGB size=600x450 at 0x1A584CB59D0>: 100%|██████████| 386/386 [00:00<00:00, 455.01 Samples/s]                  \n"
     ]
    },
    {
     "name": "stdout",
     "output_type": "stream",
     "text": [
      "Initialised with 376 image(s) found.\n",
      "Output directory set to Skin cancer ISIC The International Skin Imaging Collaboration\\Train\\basal cell carcinoma\\output."
     ]
    },
    {
     "name": "stderr",
     "output_type": "stream",
     "text": [
      "Processing <PIL.Image.Image image mode=RGB size=600x450 at 0x1A58529EF70>: 100%|██████████| 124/124 [00:00<00:00, 445.06 Samples/s]                  \n"
     ]
    },
    {
     "name": "stdout",
     "output_type": "stream",
     "text": [
      "Initialised with 95 image(s) found.\n",
      "Output directory set to Skin cancer ISIC The International Skin Imaging Collaboration\\Train\\dermatofibroma\\output."
     ]
    },
    {
     "name": "stderr",
     "output_type": "stream",
     "text": [
      "Processing <PIL.Image.Image image mode=RGB size=600x450 at 0x1A585221370>: 100%|██████████| 405/405 [00:00<00:00, 449.17 Samples/s]                  \n"
     ]
    },
    {
     "name": "stdout",
     "output_type": "stream",
     "text": [
      "Initialised with 438 image(s) found.\n",
      "Output directory set to Skin cancer ISIC The International Skin Imaging Collaboration\\Train\\melanoma\\output."
     ]
    },
    {
     "name": "stderr",
     "output_type": "stream",
     "text": [
      "Processing <PIL.JpegImagePlugin.JpegImageFile image mode=RGB size=1024x768 at 0x1A582E68340>: 100%|██████████| 62/62 [00:01<00:00, 60.95 Samples/s] \n"
     ]
    },
    {
     "name": "stdout",
     "output_type": "stream",
     "text": [
      "Initialised with 357 image(s) found.\n",
      "Output directory set to Skin cancer ISIC The International Skin Imaging Collaboration\\Train\\nevus\\output."
     ]
    },
    {
     "name": "stderr",
     "output_type": "stream",
     "text": [
      "Processing <PIL.Image.Image image mode=RGB size=600x450 at 0x1A584FFD070>: 100%|██████████| 143/143 [00:01<00:00, 84.60 Samples/s]                    \n"
     ]
    },
    {
     "name": "stdout",
     "output_type": "stream",
     "text": [
      "Initialised with 462 image(s) found.\n",
      "Output directory set to Skin cancer ISIC The International Skin Imaging Collaboration\\Train\\pigmented benign keratosis\\output."
     ]
    },
    {
     "name": "stderr",
     "output_type": "stream",
     "text": [
      "Processing <PIL.Image.Image image mode=RGB size=600x450 at 0x1A584FCD430>: 100%|██████████| 38/38 [00:00<00:00, 387.29 Samples/s]                  \n"
     ]
    },
    {
     "name": "stdout",
     "output_type": "stream",
     "text": [
      "Initialised with 77 image(s) found.\n",
      "Output directory set to Skin cancer ISIC The International Skin Imaging Collaboration\\Train\\seborrheic keratosis\\output."
     ]
    },
    {
     "name": "stderr",
     "output_type": "stream",
     "text": [
      "Processing <PIL.Image.Image image mode=RGB size=1024x768 at 0x1A585210280>: 100%|██████████| 423/423 [00:02<00:00, 205.44 Samples/s]                  \n"
     ]
    },
    {
     "name": "stdout",
     "output_type": "stream",
     "text": [
      "Initialised with 181 image(s) found.\n",
      "Output directory set to Skin cancer ISIC The International Skin Imaging Collaboration\\Train\\squamous cell carcinoma\\output."
     ]
    },
    {
     "name": "stderr",
     "output_type": "stream",
     "text": [
      "Processing <PIL.Image.Image image mode=RGB size=600x450 at 0x1A584FE33A0>: 100%|██████████| 319/319 [00:00<00:00, 430.94 Samples/s]                  \n"
     ]
    },
    {
     "name": "stdout",
     "output_type": "stream",
     "text": [
      "Initialised with 139 image(s) found.\n",
      "Output directory set to Skin cancer ISIC The International Skin Imaging Collaboration\\Train\\vascular lesion\\output."
     ]
    },
    {
     "name": "stderr",
     "output_type": "stream",
     "text": [
      "Processing <PIL.Image.Image image mode=RGB size=600x450 at 0x1A58520A0A0>: 100%|██████████| 361/361 [00:00<00:00, 434.07 Samples/s]                  \n"
     ]
    }
   ],
   "source": [
    "import Augmentor\n",
    "max_images = max([len(os.listdir(train_images / i)) for i in class_names])\n",
    "max_images = round(max_images / 100) * 100\n",
    "for i in class_names:\n",
    "    train_images_sub = train_images /  i\n",
    "    classes_image_count_train = len(list(train_images_sub.glob('*.jpg')))\n",
    "    augmented_image_required  = max_images - classes_image_count_train\n",
    "    p = Augmentor.Pipeline(train_images_sub)\n",
    "    p.rotate(probability=0.7, max_left_rotation=10, max_right_rotation=10)\n",
    "    p.sample(augmented_image_required)"
   ]
  },
  {
   "cell_type": "code",
   "execution_count": 175,
   "id": "bb4363e7",
   "metadata": {},
   "outputs": [
    {
     "name": "stdout",
     "output_type": "stream",
     "text": [
      "Found 4500 files belonging to 9 classes.\n",
      "Using 3600 files for training.\n"
     ]
    }
   ],
   "source": [
    "train_ds = tf.keras.preprocessing.image_dataset_from_directory(train_images,\n",
    "                                                               seed=123,\n",
    "                                                               validation_split=0.2,\n",
    "                                                               image_size=(IMG_HEIGHT,IMG_WIDTH),\n",
    "                                                               batch_size=BATCH_SIZE, \n",
    "                                                               label_mode='categorical',\n",
    "                                                               subset='training')"
   ]
  },
  {
   "cell_type": "code",
   "execution_count": 176,
   "id": "0661ddf2",
   "metadata": {},
   "outputs": [
    {
     "name": "stdout",
     "output_type": "stream",
     "text": [
      "Found 4500 files belonging to 9 classes.\n",
      "Using 900 files for validation.\n"
     ]
    }
   ],
   "source": [
    "# Loading the validation data\n",
    "# using seed=123 while creating dataset using tf.keras.preprocessing.image_dataset_from_directory\n",
    "# resizing images to the size img_height*img_width, while writting the dataset\n",
    "val_ds = tf.keras.preprocessing.image_dataset_from_directory(train_images,\n",
    "                                                             seed=123,\n",
    "                                                             validation_split=0.2,\n",
    "                                                             image_size=(IMG_HEIGHT,IMG_WIDTH),\n",
    "                                                             batch_size=BATCH_SIZE, \n",
    "                                                             label_mode='categorical',\n",
    "                                                             subset='validation')\n",
    " "
   ]
  },
  {
   "cell_type": "code",
   "execution_count": 177,
   "id": "e01caa34",
   "metadata": {},
   "outputs": [],
   "source": [
    "data_augmentation = tf.keras.Sequential(\n",
    "  [\n",
    "    layers.experimental.preprocessing.RandomFlip(\"horizontal_and_vertical\", \n",
    "                                                 input_shape=(IMG_HEIGHT, \n",
    "                                                              IMG_WIDTH,\n",
    "                                                              3)),\n",
    "    layers.experimental.preprocessing.RandomRotation(0.2),\n",
    "    layers.experimental.preprocessing.RandomZoom(0.2),\n",
    "    layers.experimental.preprocessing.RandomContrast(0.1)\n",
    "  ]\n",
    ")"
   ]
  },
  {
   "cell_type": "code",
   "execution_count": 183,
   "id": "60975b31",
   "metadata": {},
   "outputs": [],
   "source": [
    "model = tf.keras.Sequential([\n",
    "    \n",
    "    layers.experimental.preprocessing.Rescaling(1./255,input_shape=(IMG_HEIGHT,IMG_WIDTH,3)),\n",
    "    #data_augmentation,\n",
    "    \n",
    "    #First Convulation layer\n",
    "    layers.Conv2D(32,kernel_size=(3,3),activation='relu'),\n",
    "    layers.MaxPool2D(pool_size=(2,2)),\n",
    "    \n",
    "    #Second Convulation Layer\n",
    "    layers.Conv2D(64,kernel_size=(3,3),activation='relu'),\n",
    "    layers.MaxPool2D(pool_size=(2,2)),\n",
    "    \n",
    "    #Third Convulation Layer\n",
    "    layers.Conv2D(128,kernel_size=(3,3),activation='relu'),\n",
    "    layers.MaxPool2D(pool_size=(2,2)),\n",
    "    \n",
    "    #Dropout layer with 50% Fraction of the input units to drop.\n",
    "    layers.Dropout(0.5),\n",
    "    \n",
    "    #Flatten Layer\n",
    "    ##Keras.layers.flatten function flattens the multi-dimensional input tensors into a single dimension.\n",
    "    layers.Flatten(),\n",
    "\n",
    "    #Dense Layer\n",
    "    layers.Dense(128,activation='relu'),\n",
    "\n",
    "    #Dropout layer with 25% Fraction of the input units to drop.\n",
    "    layers.Dropout(0.25),\n",
    "\n",
    "    #Dense Layer with softmax activation function.\n",
    "    #Softmax is an activation function that scales numbers/logits into probabilities.\n",
    "    layers.Dense(len(class_names),activation='softmax')\n",
    "\n",
    "])\n"
   ]
  },
  {
   "cell_type": "code",
   "execution_count": 184,
   "id": "31d6686a",
   "metadata": {},
   "outputs": [],
   "source": [
    "optimizer = tf.keras.optimizers.Adam(learning_rate=0.001)\n",
    "model.compile(optimizer=optimizer,\n",
    "              loss='categorical_crossentropy',\n",
    "              metrics=['accuracy'])"
   ]
  },
  {
   "cell_type": "code",
   "execution_count": 185,
   "id": "7d4fb9df",
   "metadata": {},
   "outputs": [],
   "source": [
    "reduce_lr = tf.keras.callbacks.ReduceLROnPlateau(monitor='val_loss', factor=0.2,\n",
    "                              patience=5, min_lr=0.0001)"
   ]
  },
  {
   "cell_type": "code",
   "execution_count": 186,
   "id": "0310f15a",
   "metadata": {},
   "outputs": [
    {
     "name": "stdout",
     "output_type": "stream",
     "text": [
      "Model: \"sequential_22\"\n",
      "_________________________________________________________________\n",
      " Layer (type)                Output Shape              Param #   \n",
      "=================================================================\n",
      " rescaling_15 (Rescaling)    (None, 180, 180, 3)       0         \n",
      "                                                                 \n",
      " sequential_20 (Sequential)  (None, 180, 180, 3)       0         \n",
      "                                                                 \n",
      " conv2d_64 (Conv2D)          (None, 178, 178, 32)      896       \n",
      "                                                                 \n",
      " max_pooling2d_62 (MaxPooli  (None, 89, 89, 32)        0         \n",
      " ng2D)                                                           \n",
      "                                                                 \n",
      " conv2d_65 (Conv2D)          (None, 87, 87, 64)        18496     \n",
      "                                                                 \n",
      " max_pooling2d_63 (MaxPooli  (None, 43, 43, 64)        0         \n",
      " ng2D)                                                           \n",
      "                                                                 \n",
      " conv2d_66 (Conv2D)          (None, 41, 41, 128)       73856     \n",
      "                                                                 \n",
      " max_pooling2d_64 (MaxPooli  (None, 20, 20, 128)       0         \n",
      " ng2D)                                                           \n",
      "                                                                 \n",
      " dropout_46 (Dropout)        (None, 20, 20, 128)       0         \n",
      "                                                                 \n",
      " flatten_15 (Flatten)        (None, 51200)             0         \n",
      "                                                                 \n",
      " dense_32 (Dense)            (None, 128)               6553728   \n",
      "                                                                 \n",
      " dropout_47 (Dropout)        (None, 128)               0         \n",
      "                                                                 \n",
      " dense_33 (Dense)            (None, 9)                 1161      \n",
      "                                                                 \n",
      "=================================================================\n",
      "Total params: 6648137 (25.36 MB)\n",
      "Trainable params: 6648137 (25.36 MB)\n",
      "Non-trainable params: 0 (0.00 Byte)\n",
      "_________________________________________________________________\n"
     ]
    }
   ],
   "source": [
    "model.summary()"
   ]
  },
  {
   "cell_type": "code",
   "execution_count": 187,
   "id": "72cbc47a",
   "metadata": {},
   "outputs": [
    {
     "name": "stdout",
     "output_type": "stream",
     "text": [
      "Epoch 1/30\n",
      "113/113 [==============================] - 43s 370ms/step - loss: 2.0762 - accuracy: 0.1803 - val_loss: 1.7133 - val_accuracy: 0.3022 - lr: 0.0010\n",
      "Epoch 2/30\n",
      "113/113 [==============================] - 43s 381ms/step - loss: 1.6897 - accuracy: 0.3494 - val_loss: 1.5635 - val_accuracy: 0.3944 - lr: 0.0010\n",
      "Epoch 3/30\n",
      "113/113 [==============================] - 46s 409ms/step - loss: 1.5646 - accuracy: 0.3850 - val_loss: 1.4973 - val_accuracy: 0.3767 - lr: 0.0010\n",
      "Epoch 4/30\n",
      "113/113 [==============================] - 48s 424ms/step - loss: 1.5251 - accuracy: 0.3978 - val_loss: 1.4241 - val_accuracy: 0.4467 - lr: 0.0010\n",
      "Epoch 5/30\n",
      "113/113 [==============================] - 50s 438ms/step - loss: 1.5115 - accuracy: 0.3992 - val_loss: 1.4448 - val_accuracy: 0.4222 - lr: 0.0010\n",
      "Epoch 6/30\n",
      "113/113 [==============================] - 52s 455ms/step - loss: 1.5171 - accuracy: 0.4189 - val_loss: 1.3758 - val_accuracy: 0.4811 - lr: 0.0010\n",
      "Epoch 7/30\n",
      "113/113 [==============================] - 54s 478ms/step - loss: 1.4494 - accuracy: 0.4275 - val_loss: 1.3961 - val_accuracy: 0.4578 - lr: 0.0010\n",
      "Epoch 8/30\n",
      "113/113 [==============================] - 53s 462ms/step - loss: 1.4326 - accuracy: 0.4294 - val_loss: 1.3563 - val_accuracy: 0.4556 - lr: 0.0010\n",
      "Epoch 9/30\n",
      "113/113 [==============================] - 52s 460ms/step - loss: 1.4274 - accuracy: 0.4414 - val_loss: 1.3150 - val_accuracy: 0.4667 - lr: 0.0010\n",
      "Epoch 10/30\n",
      "113/113 [==============================] - 55s 481ms/step - loss: 1.3948 - accuracy: 0.4458 - val_loss: 1.2845 - val_accuracy: 0.4900 - lr: 0.0010\n",
      "Epoch 11/30\n",
      "113/113 [==============================] - 53s 469ms/step - loss: 1.3607 - accuracy: 0.4728 - val_loss: 1.2987 - val_accuracy: 0.4767 - lr: 0.0010\n",
      "Epoch 12/30\n",
      "113/113 [==============================] - 52s 462ms/step - loss: 1.3710 - accuracy: 0.4608 - val_loss: 1.3161 - val_accuracy: 0.4756 - lr: 0.0010\n",
      "Epoch 13/30\n",
      "113/113 [==============================] - 51s 452ms/step - loss: 1.3153 - accuracy: 0.4847 - val_loss: 1.2390 - val_accuracy: 0.5311 - lr: 0.0010\n",
      "Epoch 14/30\n",
      "113/113 [==============================] - 51s 447ms/step - loss: 1.3553 - accuracy: 0.4675 - val_loss: 1.4464 - val_accuracy: 0.4322 - lr: 0.0010\n",
      "Epoch 15/30\n",
      "113/113 [==============================] - 50s 439ms/step - loss: 1.3145 - accuracy: 0.4822 - val_loss: 1.2138 - val_accuracy: 0.5122 - lr: 0.0010\n",
      "Epoch 16/30\n",
      "113/113 [==============================] - 50s 439ms/step - loss: 1.3525 - accuracy: 0.4761 - val_loss: 1.2769 - val_accuracy: 0.4733 - lr: 0.0010\n",
      "Epoch 17/30\n",
      "113/113 [==============================] - 49s 430ms/step - loss: 1.2746 - accuracy: 0.5033 - val_loss: 1.2000 - val_accuracy: 0.5078 - lr: 0.0010\n",
      "Epoch 18/30\n",
      "113/113 [==============================] - 49s 427ms/step - loss: 1.2774 - accuracy: 0.4928 - val_loss: 1.2177 - val_accuracy: 0.5022 - lr: 0.0010\n",
      "Epoch 19/30\n",
      "113/113 [==============================] - 48s 418ms/step - loss: 1.2628 - accuracy: 0.5006 - val_loss: 1.2351 - val_accuracy: 0.5122 - lr: 0.0010\n",
      "Epoch 20/30\n",
      "113/113 [==============================] - 47s 414ms/step - loss: 1.2491 - accuracy: 0.5122 - val_loss: 1.1732 - val_accuracy: 0.5333 - lr: 0.0010\n",
      "Epoch 21/30\n",
      "113/113 [==============================] - 47s 411ms/step - loss: 1.2091 - accuracy: 0.5256 - val_loss: 1.1618 - val_accuracy: 0.5700 - lr: 0.0010\n",
      "Epoch 22/30\n",
      "113/113 [==============================] - 47s 411ms/step - loss: 1.2267 - accuracy: 0.5231 - val_loss: 1.1660 - val_accuracy: 0.5489 - lr: 0.0010\n",
      "Epoch 23/30\n",
      "113/113 [==============================] - 46s 407ms/step - loss: 1.2258 - accuracy: 0.5175 - val_loss: 1.1668 - val_accuracy: 0.5478 - lr: 0.0010\n",
      "Epoch 24/30\n",
      "113/113 [==============================] - 47s 413ms/step - loss: 1.2033 - accuracy: 0.5361 - val_loss: 1.1313 - val_accuracy: 0.5478 - lr: 0.0010\n",
      "Epoch 25/30\n",
      "113/113 [==============================] - 46s 408ms/step - loss: 1.1908 - accuracy: 0.5392 - val_loss: 1.1057 - val_accuracy: 0.5589 - lr: 0.0010\n",
      "Epoch 26/30\n",
      "113/113 [==============================] - 46s 406ms/step - loss: 1.1988 - accuracy: 0.5311 - val_loss: 1.1621 - val_accuracy: 0.5411 - lr: 0.0010\n",
      "Epoch 27/30\n",
      "113/113 [==============================] - 47s 410ms/step - loss: 1.2043 - accuracy: 0.5281 - val_loss: 1.1276 - val_accuracy: 0.5844 - lr: 0.0010\n",
      "Epoch 28/30\n",
      "113/113 [==============================] - 47s 412ms/step - loss: 1.1984 - accuracy: 0.5253 - val_loss: 1.1400 - val_accuracy: 0.5556 - lr: 0.0010\n",
      "Epoch 29/30\n",
      "113/113 [==============================] - 47s 410ms/step - loss: 1.1180 - accuracy: 0.5597 - val_loss: 1.1134 - val_accuracy: 0.5900 - lr: 0.0010\n",
      "Epoch 30/30\n",
      "113/113 [==============================] - 47s 409ms/step - loss: 1.1736 - accuracy: 0.5522 - val_loss: 1.0939 - val_accuracy: 0.5822 - lr: 0.0010\n"
     ]
    }
   ],
   "source": [
    "history = model.fit(train_ds, validation_data=val_ds, epochs=30, callbacks=[reduce_lr])"
   ]
  }
 ],
 "metadata": {
  "kernelspec": {
   "display_name": "Python 3 (ipykernel)",
   "language": "python",
   "name": "python3"
  },
  "language_info": {
   "codemirror_mode": {
    "name": "ipython",
    "version": 3
   },
   "file_extension": ".py",
   "mimetype": "text/x-python",
   "name": "python",
   "nbconvert_exporter": "python",
   "pygments_lexer": "ipython3",
   "version": "3.9.13"
  }
 },
 "nbformat": 4,
 "nbformat_minor": 5
}
