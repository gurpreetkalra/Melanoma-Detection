{
 "cells": [
  {
   "cell_type": "code",
   "execution_count": 1,
   "id": "2877d5bd",
   "metadata": {},
   "outputs": [],
   "source": [
    "import os\n",
    "import pathlib\n",
    "import pandas as pd\n",
    "import tensorflow as tf\n",
    "import matplotlib.pyplot as plt\n",
    "from tensorflow import keras\n",
    "from tensorflow.keras import layers\n",
    "from keras.layers import Dense, Flatten, Conv2D, MaxPool2D, Dropout,BatchNormalization\n",
    "from keras import Sequential,Model\n",
    "from tensorflow.keras.models import Sequential\n",
    "from tensorflow.keras.optimizers import Adam\n",
    "from keras.callbacks  import ReduceLROnPlateau\n",
    "from tensorflow.keras.losses import CategoricalCrossentropy\n",
    "\n",
    "from tensorflow.keras import layers, models\n",
    "\n",
    "from tensorflow.keras.preprocessing.image import load_img"
   ]
  },
  {
   "cell_type": "code",
   "execution_count": 38,
   "id": "5d1e0a03",
   "metadata": {},
   "outputs": [],
   "source": [
    "train_images_path = '../Org Skin cancer ISIC The International Skin Imaging Collaboration/Train/'\n",
    "test_images_path = '../Org Skin cancer ISIC The International Skin Imaging Collaboration/Test/'"
   ]
  },
  {
   "cell_type": "code",
   "execution_count": 39,
   "id": "fff94fde",
   "metadata": {},
   "outputs": [
    {
     "name": "stdout",
     "output_type": "stream",
     "text": [
      "2239\n"
     ]
    }
   ],
   "source": [
    "train_images = pathlib.Path(train_images_path)\n",
    "image_count_train = len(list(train_images.glob('*/*.jpg')))\n",
    "print(image_count_train)"
   ]
  },
  {
   "cell_type": "code",
   "execution_count": 40,
   "id": "6fec0eff",
   "metadata": {},
   "outputs": [
    {
     "name": "stdout",
     "output_type": "stream",
     "text": [
      "118\n"
     ]
    }
   ],
   "source": [
    "test_images = pathlib.Path(test_images_path)\n",
    "image_count_test = len(list(test_images.glob('*/*.jpg')))\n",
    "print(image_count_test)"
   ]
  },
  {
   "cell_type": "code",
   "execution_count": 41,
   "id": "95400e7b",
   "metadata": {},
   "outputs": [],
   "source": [
    "BATCH_SIZE = 32\n",
    "IMG_HEIGHT = 180\n",
    "IMG_WIDTH = 180"
   ]
  },
  {
   "cell_type": "code",
   "execution_count": 56,
   "id": "9a88a9bd",
   "metadata": {},
   "outputs": [
    {
     "name": "stdout",
     "output_type": "stream",
     "text": [
      "Found 2239 files belonging to 9 classes.\n",
      "Using 1792 files for training.\n"
     ]
    }
   ],
   "source": [
    "train_ds = tf.keras.preprocessing.image_dataset_from_directory(train_images,\n",
    "                                                               seed=123,\n",
    "                                                               validation_split=0.2,\n",
    "                                                               image_size=(IMG_HEIGHT,IMG_WIDTH),\n",
    "                                                               batch_size=BATCH_SIZE, \n",
    "                                                               label_mode='categorical',\n",
    "                                                               subset='training')"
   ]
  },
  {
   "cell_type": "code",
   "execution_count": 57,
   "id": "8e63988f",
   "metadata": {},
   "outputs": [
    {
     "name": "stdout",
     "output_type": "stream",
     "text": [
      "['actinic keratosis', 'basal cell carcinoma', 'dermatofibroma', 'melanoma', 'nevus', 'pigmented benign keratosis', 'seborrheic keratosis', 'squamous cell carcinoma', 'vascular lesion']\n"
     ]
    }
   ],
   "source": [
    "class_names = train_ds.class_names\n",
    "print(class_names)"
   ]
  },
  {
   "cell_type": "code",
   "execution_count": 43,
   "id": "6a921cb0",
   "metadata": {},
   "outputs": [
    {
     "name": "stdout",
     "output_type": "stream",
     "text": [
      "Found 2239 files belonging to 9 classes.\n",
      "Using 447 files for validation.\n"
     ]
    }
   ],
   "source": [
    "# Loading the validation data\n",
    "# using seed=123 while creating dataset using tf.keras.preprocessing.image_dataset_from_directory\n",
    "# resizing images to the size img_height*img_width, while writting the dataset\n",
    "val_ds = tf.keras.preprocessing.image_dataset_from_directory(train_images,\n",
    "                                                             seed=123,\n",
    "                                                             validation_split=0.2,\n",
    "                                                             image_size=(IMG_HEIGHT,IMG_WIDTH),\n",
    "                                                             batch_size=BATCH_SIZE, \n",
    "                                                             label_mode='categorical',\n",
    "                                                             subset='validation')\n",
    " "
   ]
  },
  {
   "cell_type": "code",
   "execution_count": 44,
   "id": "e1866ae8",
   "metadata": {},
   "outputs": [
    {
     "data": {
      "text/html": [
       "<div>\n",
       "<style scoped>\n",
       "    .dataframe tbody tr th:only-of-type {\n",
       "        vertical-align: middle;\n",
       "    }\n",
       "\n",
       "    .dataframe tbody tr th {\n",
       "        vertical-align: top;\n",
       "    }\n",
       "\n",
       "    .dataframe thead th {\n",
       "        text-align: right;\n",
       "    }\n",
       "</style>\n",
       "<table border=\"1\" class=\"dataframe\">\n",
       "  <thead>\n",
       "    <tr style=\"text-align: right;\">\n",
       "      <th></th>\n",
       "      <th>Class</th>\n",
       "      <th>No. of Image</th>\n",
       "    </tr>\n",
       "  </thead>\n",
       "  <tbody>\n",
       "    <tr>\n",
       "      <th>0</th>\n",
       "      <td>actinic keratosis</td>\n",
       "      <td>114</td>\n",
       "    </tr>\n",
       "    <tr>\n",
       "      <th>1</th>\n",
       "      <td>basal cell carcinoma</td>\n",
       "      <td>376</td>\n",
       "    </tr>\n",
       "    <tr>\n",
       "      <th>2</th>\n",
       "      <td>dermatofibroma</td>\n",
       "      <td>95</td>\n",
       "    </tr>\n",
       "    <tr>\n",
       "      <th>3</th>\n",
       "      <td>melanoma</td>\n",
       "      <td>438</td>\n",
       "    </tr>\n",
       "    <tr>\n",
       "      <th>4</th>\n",
       "      <td>nevus</td>\n",
       "      <td>357</td>\n",
       "    </tr>\n",
       "    <tr>\n",
       "      <th>5</th>\n",
       "      <td>pigmented benign keratosis</td>\n",
       "      <td>462</td>\n",
       "    </tr>\n",
       "    <tr>\n",
       "      <th>6</th>\n",
       "      <td>seborrheic keratosis</td>\n",
       "      <td>77</td>\n",
       "    </tr>\n",
       "    <tr>\n",
       "      <th>7</th>\n",
       "      <td>squamous cell carcinoma</td>\n",
       "      <td>181</td>\n",
       "    </tr>\n",
       "    <tr>\n",
       "      <th>8</th>\n",
       "      <td>vascular lesion</td>\n",
       "      <td>139</td>\n",
       "    </tr>\n",
       "  </tbody>\n",
       "</table>\n",
       "</div>"
      ],
      "text/plain": [
       "                        Class  No. of Image\n",
       "0           actinic keratosis           114\n",
       "1        basal cell carcinoma           376\n",
       "2              dermatofibroma            95\n",
       "3                    melanoma           438\n",
       "4                       nevus           357\n",
       "5  pigmented benign keratosis           462\n",
       "6        seborrheic keratosis            77\n",
       "7     squamous cell carcinoma           181\n",
       "8             vascular lesion           139"
      ]
     },
     "execution_count": 44,
     "metadata": {},
     "output_type": "execute_result"
    }
   ],
   "source": [
    "##Find the distribution of classes in the training dataset\n",
    "def class_distribution_count(directory):\n",
    "\n",
    "    #count number of image in each classes\n",
    "    count= []\n",
    "    for path in pathlib.Path(directory).iterdir():\n",
    "        if path.is_dir():\n",
    "            count.append(len([name for name in os.listdir(path)\n",
    "                               if os.path.isfile(os.path.join(path, name))]))\n",
    "\n",
    "    #name of the classes\n",
    "    sub_directory = [name for name in os.listdir(directory)\n",
    "                    if os.path.isdir(os.path.join(directory, name))]\n",
    "\n",
    "    #return dataframe with image count and class.\n",
    "    return pd.DataFrame(list(zip(sub_directory,count)),columns =['Class', 'No. of Image'])\n",
    "\n",
    "df = class_distribution_count(train_images_path)\n",
    "df"
   ]
  },
  {
   "cell_type": "code",
   "execution_count": 45,
   "id": "9a35c9a9",
   "metadata": {},
   "outputs": [],
   "source": [
    "AUTOTUNE = tf.data.experimental.AUTOTUNE\n",
    "train_ds = train_ds.cache().shuffle(1000).prefetch(buffer_size=AUTOTUNE)\n",
    "val_ds = val_ds.cache().prefetch(buffer_size=AUTOTUNE)"
   ]
  },
  {
   "cell_type": "code",
   "execution_count": 46,
   "id": "7c4aea2b",
   "metadata": {},
   "outputs": [],
   "source": [
    "# 1. Building the CNN Model\n",
    "model = models.Sequential([\n",
    "    # Rescaling layer to normalize pixel values\n",
    "    layers.Rescaling(1./255, input_shape=(IMG_HEIGHT, IMG_WIDTH, 3)),\n",
    "    \n",
    "    # Convolutional and pooling layers\n",
    "    layers.Conv2D(32, (3, 3), activation='relu'),\n",
    "    layers.MaxPooling2D((2, 2)),\n",
    "    layers.Conv2D(64, (3, 3), activation='relu'),\n",
    "    layers.MaxPooling2D((2, 2)),\n",
    "    layers.Conv2D(128, (3, 3), activation='relu'),\n",
    "    layers.MaxPooling2D((2, 2)),\n",
    "    \n",
    "    # Flatten and dense layers\n",
    "    layers.Flatten(),\n",
    "    layers.Dense(128, activation='relu'),\n",
    "    layers.Dense(9, activation='softmax')  # 9 classes\n",
    "])"
   ]
  },
  {
   "cell_type": "code",
   "execution_count": 47,
   "id": "d6862cef",
   "metadata": {},
   "outputs": [],
   "source": [
    "model.compile(optimizer=Adam(),\n",
    "              loss=CategoricalCrossentropy(),\n",
    "              metrics=['accuracy'])\n"
   ]
  },
  {
   "cell_type": "code",
   "execution_count": 48,
   "id": "b85c1693",
   "metadata": {},
   "outputs": [
    {
     "name": "stdout",
     "output_type": "stream",
     "text": [
      "Model: \"sequential_1\"\n",
      "_________________________________________________________________\n",
      " Layer (type)                Output Shape              Param #   \n",
      "=================================================================\n",
      " rescaling_1 (Rescaling)     (None, 180, 180, 3)       0         \n",
      "                                                                 \n",
      " conv2d_3 (Conv2D)           (None, 178, 178, 32)      896       \n",
      "                                                                 \n",
      " max_pooling2d_3 (MaxPoolin  (None, 89, 89, 32)        0         \n",
      " g2D)                                                            \n",
      "                                                                 \n",
      " conv2d_4 (Conv2D)           (None, 87, 87, 64)        18496     \n",
      "                                                                 \n",
      " max_pooling2d_4 (MaxPoolin  (None, 43, 43, 64)        0         \n",
      " g2D)                                                            \n",
      "                                                                 \n",
      " conv2d_5 (Conv2D)           (None, 41, 41, 128)       73856     \n",
      "                                                                 \n",
      " max_pooling2d_5 (MaxPoolin  (None, 20, 20, 128)       0         \n",
      " g2D)                                                            \n",
      "                                                                 \n",
      " flatten_1 (Flatten)         (None, 51200)             0         \n",
      "                                                                 \n",
      " dense_2 (Dense)             (None, 128)               6553728   \n",
      "                                                                 \n",
      " dense_3 (Dense)             (None, 9)                 1161      \n",
      "                                                                 \n",
      "=================================================================\n",
      "Total params: 6648137 (25.36 MB)\n",
      "Trainable params: 6648137 (25.36 MB)\n",
      "Non-trainable params: 0 (0.00 Byte)\n",
      "_________________________________________________________________\n"
     ]
    }
   ],
   "source": [
    "# View the summary of all layers\n",
    "model.summary()"
   ]
  },
  {
   "cell_type": "code",
   "execution_count": 49,
   "id": "991947ce",
   "metadata": {},
   "outputs": [
    {
     "name": "stdout",
     "output_type": "stream",
     "text": [
      "Epoch 1/20\n",
      "56/56 [==============================] - 23s 341ms/step - loss: 2.0812 - accuracy: 0.2160 - val_loss: 1.8695 - val_accuracy: 0.3154\n",
      "Epoch 2/20\n",
      "56/56 [==============================] - 19s 345ms/step - loss: 1.7350 - accuracy: 0.3717 - val_loss: 1.5639 - val_accuracy: 0.4720\n",
      "Epoch 3/20\n",
      "56/56 [==============================] - 19s 347ms/step - loss: 1.5105 - accuracy: 0.4693 - val_loss: 1.4822 - val_accuracy: 0.4519\n",
      "Epoch 4/20\n",
      "56/56 [==============================] - 20s 352ms/step - loss: 1.4719 - accuracy: 0.4866 - val_loss: 1.5182 - val_accuracy: 0.4340\n",
      "Epoch 5/20\n",
      "56/56 [==============================] - 22s 386ms/step - loss: 1.3492 - accuracy: 0.5173 - val_loss: 1.3766 - val_accuracy: 0.5369\n",
      "Epoch 6/20\n",
      "56/56 [==============================] - 22s 395ms/step - loss: 1.2564 - accuracy: 0.5525 - val_loss: 1.3476 - val_accuracy: 0.5168\n",
      "Epoch 7/20\n",
      "56/56 [==============================] - 23s 407ms/step - loss: 1.1913 - accuracy: 0.5737 - val_loss: 1.4257 - val_accuracy: 0.5302\n",
      "Epoch 8/20\n",
      "56/56 [==============================] - 24s 423ms/step - loss: 1.1236 - accuracy: 0.6055 - val_loss: 1.4538 - val_accuracy: 0.5145\n",
      "Epoch 9/20\n",
      "56/56 [==============================] - 25s 445ms/step - loss: 1.0960 - accuracy: 0.6105 - val_loss: 1.4185 - val_accuracy: 0.5190\n",
      "Epoch 10/20\n",
      "56/56 [==============================] - 24s 437ms/step - loss: 0.9215 - accuracy: 0.6613 - val_loss: 1.3993 - val_accuracy: 0.5570\n",
      "Epoch 11/20\n",
      "56/56 [==============================] - 25s 455ms/step - loss: 0.8769 - accuracy: 0.6903 - val_loss: 1.4799 - val_accuracy: 0.5257\n",
      "Epoch 12/20\n",
      "56/56 [==============================] - 27s 486ms/step - loss: 0.8152 - accuracy: 0.7093 - val_loss: 1.8428 - val_accuracy: 0.4609\n",
      "Epoch 13/20\n",
      "56/56 [==============================] - 28s 509ms/step - loss: 0.8170 - accuracy: 0.7249 - val_loss: 1.7057 - val_accuracy: 0.5034\n",
      "Epoch 14/20\n",
      "56/56 [==============================] - 31s 549ms/step - loss: 0.6470 - accuracy: 0.7852 - val_loss: 1.9094 - val_accuracy: 0.5347\n",
      "Epoch 15/20\n",
      "56/56 [==============================] - 30s 539ms/step - loss: 0.5674 - accuracy: 0.8019 - val_loss: 1.9570 - val_accuracy: 0.5056\n",
      "Epoch 16/20\n",
      "56/56 [==============================] - 30s 534ms/step - loss: 0.5087 - accuracy: 0.8287 - val_loss: 2.0271 - val_accuracy: 0.5190\n",
      "Epoch 17/20\n",
      "56/56 [==============================] - 30s 534ms/step - loss: 0.4987 - accuracy: 0.8259 - val_loss: 2.4080 - val_accuracy: 0.4810\n",
      "Epoch 18/20\n",
      "56/56 [==============================] - 29s 519ms/step - loss: 0.4431 - accuracy: 0.8404 - val_loss: 2.3601 - val_accuracy: 0.5123\n",
      "Epoch 19/20\n",
      "56/56 [==============================] - 28s 497ms/step - loss: 0.3259 - accuracy: 0.8772 - val_loss: 2.3442 - val_accuracy: 0.5190\n",
      "Epoch 20/20\n",
      "56/56 [==============================] - 27s 484ms/step - loss: 0.3553 - accuracy: 0.8616 - val_loss: 2.6089 - val_accuracy: 0.5414\n"
     ]
    }
   ],
   "source": [
    "epochs = 20\n",
    "\n",
    "history = model.fit(\n",
    "  train_ds,\n",
    "  validation_data=val_ds,\n",
    "  epochs=epochs \n",
    ")"
   ]
  },
  {
   "cell_type": "code",
   "execution_count": 50,
   "id": "723b55b2",
   "metadata": {},
   "outputs": [
    {
     "data": {
      "image/png": "[encoded data removed]",
      "text/plain": [
       "<Figure size 800x800 with 2 Axes>"
      ]
     },
     "metadata": {},
     "output_type": "display_data"
    }
   ],
   "source": [
    "acc = history.history['accuracy']\n",
    "val_acc = history.history['val_accuracy']\n",
    "\n",
    "loss = history.history['loss']\n",
    "val_loss = history.history['val_loss']\n",
    "\n",
    "epochs_range = range(epochs)\n",
    "\n",
    "plt.figure(figsize=(8, 8))\n",
    "plt.subplot(1, 2, 1)\n",
    "plt.plot(epochs_range, acc, label='Training Accuracy')\n",
    "plt.plot(epochs_range, val_acc, label='Validation Accuracy')\n",
    "plt.legend(loc='lower right')\n",
    "plt.title('Training and Validation Accuracy')\n",
    "\n",
    "plt.subplot(1, 2, 2)\n",
    "plt.plot(epochs_range, loss, label='Training Loss')\n",
    "plt.plot(epochs_range, val_loss, label='Validation Loss')\n",
    "plt.legend(loc='upper right')\n",
    "plt.title('Training and Validation Loss')\n",
    "plt.show()"
   ]
  },
  {
   "cell_type": "code",
   "execution_count": 69,
   "id": "2fe2ff32",
   "metadata": {},
   "outputs": [
    {
     "data": {
      "text/plain": [
       "'../Augmented Skin cancer ISIC The International Skin Imaging Collaboration/Train/'"
      ]
     },
     "execution_count": 69,
     "metadata": {},
     "output_type": "execute_result"
    }
   ],
   "source": [
    "train_images_path"
   ]
  },
  {
   "cell_type": "code",
   "execution_count": 64,
   "id": "5ace3bc4",
   "metadata": {},
   "outputs": [],
   "source": [
    "train_images_path = '../Augmented Skin cancer ISIC The International Skin Imaging Collaboration/Train/'\n",
    "test_images_path = '../Augmented Skin cancer ISIC The International Skin Imaging Collaboration/Test/'"
   ]
  },
  {
   "cell_type": "code",
   "execution_count": 77,
   "id": "3cf568f4",
   "metadata": {},
   "outputs": [],
   "source": [
    "train_images = pathlib.Path(train_images_path)\n",
    "test_images = pathlib.Path(test_images_path)"
   ]
  },
  {
   "cell_type": "code",
   "execution_count": 78,
   "id": "5c4e1ca8",
   "metadata": {},
   "outputs": [],
   "source": [
    "import Augmentor\n",
    "max_images = max([len(os.listdir(train_images / i)) for i in class_names])\n",
    "max_images = round(max_images / 100) * 100\n",
    "for i in class_names:\n",
    "    train_images_sub = train_images /  i\n",
    "    classes_image_count_train = len(list(train_images_sub.glob('*.jpg')))\n",
    "    augmented_image_required  = max_images - classes_image_count_train\n",
    "#     p = Augmentor.Pipeline(train_images_sub)\n",
    "#     p.rotate(probability=0.7, max_left_rotation=10, max_right_rotation=10)\n",
    "#     p.sample(augmented_image_required)"
   ]
  },
  {
   "cell_type": "code",
   "execution_count": 79,
   "id": "bb4363e7",
   "metadata": {},
   "outputs": [
    {
     "name": "stdout",
     "output_type": "stream",
     "text": [
      "Found 4500 files belonging to 9 classes.\n",
      "Using 3600 files for training.\n"
     ]
    }
   ],
   "source": [
    "train_ds = tf.keras.preprocessing.image_dataset_from_directory(train_images,\n",
    "                                                               seed=123,\n",
    "                                                               validation_split=0.2,\n",
    "                                                               image_size=(IMG_HEIGHT,IMG_WIDTH),\n",
    "                                                               batch_size=BATCH_SIZE, \n",
    "                                                               label_mode='categorical',\n",
    "                                                               subset='training')"
   ]
  },
  {
   "cell_type": "code",
   "execution_count": 80,
   "id": "0661ddf2",
   "metadata": {},
   "outputs": [
    {
     "name": "stdout",
     "output_type": "stream",
     "text": [
      "Found 4500 files belonging to 9 classes.\n",
      "Using 900 files for validation.\n"
     ]
    }
   ],
   "source": [
    "# Loading the validation data\n",
    "# using seed=123 while creating dataset using tf.keras.preprocessing.image_dataset_from_directory\n",
    "# resizing images to the size img_height*img_width, while writting the dataset\n",
    "val_ds = tf.keras.preprocessing.image_dataset_from_directory(train_images,\n",
    "                                                             seed=123,\n",
    "                                                             validation_split=0.2,\n",
    "                                                             image_size=(IMG_HEIGHT,IMG_WIDTH),\n",
    "                                                             batch_size=BATCH_SIZE, \n",
    "                                                             label_mode='categorical',\n",
    "                                                             subset='validation')\n",
    " "
   ]
  },
  {
   "cell_type": "code",
   "execution_count": 81,
   "id": "e01caa34",
   "metadata": {},
   "outputs": [],
   "source": [
    "data_augmentation = tf.keras.Sequential(\n",
    "  [\n",
    "    layers.experimental.preprocessing.RandomFlip(\"horizontal_and_vertical\", \n",
    "                                                 input_shape=(IMG_HEIGHT, \n",
    "                                                              IMG_WIDTH,\n",
    "                                                              3)),\n",
    "    layers.experimental.preprocessing.RandomRotation(0.2),\n",
    "    layers.experimental.preprocessing.RandomZoom(0.2),\n",
    "    layers.experimental.preprocessing.RandomContrast(0.1)\n",
    "  ]\n",
    ")"
   ]
  },
  {
   "cell_type": "code",
   "execution_count": 83,
   "id": "60975b31",
   "metadata": {},
   "outputs": [],
   "source": [
    "model = tf.keras.Sequential([\n",
    "    \n",
    "    layers.experimental.preprocessing.Rescaling(1./255,input_shape=(IMG_HEIGHT,IMG_WIDTH,3)),\n",
    "    data_augmentation,\n",
    "    \n",
    "    #First Convulation layer\n",
    "    layers.Conv2D(32,kernel_size=(3,3),activation='relu'),\n",
    "    layers.MaxPool2D(pool_size=(2,2)),\n",
    "    \n",
    "    #First Convulation layer\n",
    "    layers.Conv2D(32,kernel_size=(3,3),activation='relu'),\n",
    "    layers.MaxPool2D(pool_size=(2,2)),\n",
    "    \n",
    "    #First Convulation layer\n",
    "    layers.Conv2D(32,kernel_size=(3,3),activation='relu'),\n",
    "    layers.MaxPool2D(pool_size=(2,2)),  \n",
    "     \n",
    "    \n",
    "    #Flatten Layer\n",
    "    ##Keras.layers.flatten function flattens the multi-dimensional input tensors into a single dimension.\n",
    "    layers.Flatten(),\n",
    "\n",
    "    #Dense Layer\n",
    "    layers.Dense(128,activation='relu'),\n",
    "\n",
    "    \n",
    "    #Dense Layer with softmax activation function.\n",
    "    #Softmax is an activation function that scales numbers/logits into probabilities.\n",
    "    layers.Dense(len(class_names),activation='softmax')\n",
    "\n",
    "])\n"
   ]
  },
  {
   "cell_type": "code",
   "execution_count": 84,
   "id": "31d6686a",
   "metadata": {},
   "outputs": [],
   "source": [
    "optimizer = tf.keras.optimizers.Adam(learning_rate=0.001)\n",
    "model.compile(optimizer=optimizer,\n",
    "              loss='categorical_crossentropy',\n",
    "              metrics=['accuracy'])"
   ]
  },
  {
   "cell_type": "code",
   "execution_count": 85,
   "id": "7d4fb9df",
   "metadata": {},
   "outputs": [],
   "source": [
    "reduce_lr = tf.keras.callbacks.ReduceLROnPlateau(monitor='val_loss', factor=0.2,\n",
    "                              patience=5, min_lr=0.0001)"
   ]
  },
  {
   "cell_type": "code",
   "execution_count": 86,
   "id": "0310f15a",
   "metadata": {},
   "outputs": [
    {
     "name": "stdout",
     "output_type": "stream",
     "text": [
      "Model: \"sequential_4\"\n",
      "_________________________________________________________________\n",
      " Layer (type)                Output Shape              Param #   \n",
      "=================================================================\n",
      " rescaling_3 (Rescaling)     (None, 180, 180, 3)       0         \n",
      "                                                                 \n",
      " sequential_2 (Sequential)   (None, 180, 180, 3)       0         \n",
      "                                                                 \n",
      " conv2d_9 (Conv2D)           (None, 178, 178, 32)      896       \n",
      "                                                                 \n",
      " max_pooling2d_9 (MaxPoolin  (None, 89, 89, 32)        0         \n",
      " g2D)                                                            \n",
      "                                                                 \n",
      " conv2d_10 (Conv2D)          (None, 87, 87, 32)        9248      \n",
      "                                                                 \n",
      " max_pooling2d_10 (MaxPooli  (None, 43, 43, 32)        0         \n",
      " ng2D)                                                           \n",
      "                                                                 \n",
      " conv2d_11 (Conv2D)          (None, 41, 41, 32)        9248      \n",
      "                                                                 \n",
      " max_pooling2d_11 (MaxPooli  (None, 20, 20, 32)        0         \n",
      " ng2D)                                                           \n",
      "                                                                 \n",
      " flatten_3 (Flatten)         (None, 12800)             0         \n",
      "                                                                 \n",
      " dense_6 (Dense)             (None, 128)               1638528   \n",
      "                                                                 \n",
      " dense_7 (Dense)             (None, 9)                 1161      \n",
      "                                                                 \n",
      "=================================================================\n",
      "Total params: 1659081 (6.33 MB)\n",
      "Trainable params: 1659081 (6.33 MB)\n",
      "Non-trainable params: 0 (0.00 Byte)\n",
      "_________________________________________________________________\n"
     ]
    }
   ],
   "source": [
    "model.summary()"
   ]
  },
  {
   "cell_type": "code",
   "execution_count": 87,
   "id": "72cbc47a",
   "metadata": {},
   "outputs": [
    {
     "name": "stdout",
     "output_type": "stream",
     "text": [
      "Epoch 1/30\n",
      "113/113 [==============================] - 30s 257ms/step - loss: 2.0349 - accuracy: 0.2136 - val_loss: 1.7043 - val_accuracy: 0.3189 - lr: 0.0010\n",
      "Epoch 2/30\n",
      "113/113 [==============================] - 30s 262ms/step - loss: 1.6722 - accuracy: 0.3378 - val_loss: 1.5529 - val_accuracy: 0.3878 - lr: 0.0010\n",
      "Epoch 3/30\n",
      "113/113 [==============================] - 30s 263ms/step - loss: 1.5598 - accuracy: 0.3861 - val_loss: 1.5071 - val_accuracy: 0.3956 - lr: 0.0010\n",
      "Epoch 4/30\n",
      "113/113 [==============================] - 33s 293ms/step - loss: 1.5254 - accuracy: 0.4028 - val_loss: 1.4660 - val_accuracy: 0.4422 - lr: 0.0010\n",
      "Epoch 5/30\n",
      "113/113 [==============================] - 35s 308ms/step - loss: 1.4607 - accuracy: 0.4319 - val_loss: 1.4676 - val_accuracy: 0.4344 - lr: 0.0010\n",
      "Epoch 6/30\n",
      "113/113 [==============================] - 37s 326ms/step - loss: 1.4560 - accuracy: 0.4289 - val_loss: 1.5937 - val_accuracy: 0.3600 - lr: 0.0010\n",
      "Epoch 7/30\n",
      "113/113 [==============================] - 37s 326ms/step - loss: 1.4417 - accuracy: 0.4308 - val_loss: 1.4515 - val_accuracy: 0.3978 - lr: 0.0010\n",
      "Epoch 8/30\n",
      "113/113 [==============================] - 39s 341ms/step - loss: 1.4181 - accuracy: 0.4369 - val_loss: 1.3682 - val_accuracy: 0.4833 - lr: 0.0010\n",
      "Epoch 9/30\n",
      "113/113 [==============================] - 38s 332ms/step - loss: 1.3685 - accuracy: 0.4656 - val_loss: 1.3814 - val_accuracy: 0.4500 - lr: 0.0010\n",
      "Epoch 10/30\n",
      "113/113 [==============================] - 39s 345ms/step - loss: 1.3444 - accuracy: 0.4797 - val_loss: 1.2977 - val_accuracy: 0.5011 - lr: 0.0010\n",
      "Epoch 11/30\n",
      "113/113 [==============================] - 40s 349ms/step - loss: 1.3310 - accuracy: 0.4767 - val_loss: 1.3168 - val_accuracy: 0.4767 - lr: 0.0010\n",
      "Epoch 12/30\n",
      "113/113 [==============================] - 39s 344ms/step - loss: 1.3199 - accuracy: 0.4900 - val_loss: 1.3051 - val_accuracy: 0.4811 - lr: 0.0010\n",
      "Epoch 13/30\n",
      "113/113 [==============================] - 39s 338ms/step - loss: 1.2893 - accuracy: 0.5047 - val_loss: 1.3346 - val_accuracy: 0.5000 - lr: 0.0010\n",
      "Epoch 14/30\n",
      "113/113 [==============================] - 40s 354ms/step - loss: 1.2727 - accuracy: 0.5039 - val_loss: 1.2934 - val_accuracy: 0.4956 - lr: 0.0010\n",
      "Epoch 15/30\n",
      "113/113 [==============================] - 40s 353ms/step - loss: 1.2433 - accuracy: 0.5203 - val_loss: 1.2062 - val_accuracy: 0.5400 - lr: 0.0010\n",
      "Epoch 16/30\n",
      "113/113 [==============================] - 40s 351ms/step - loss: 1.2365 - accuracy: 0.5217 - val_loss: 1.1849 - val_accuracy: 0.5333 - lr: 0.0010\n",
      "Epoch 17/30\n",
      "113/113 [==============================] - 39s 343ms/step - loss: 1.2495 - accuracy: 0.5153 - val_loss: 1.1924 - val_accuracy: 0.5478 - lr: 0.0010\n",
      "Epoch 18/30\n",
      "113/113 [==============================] - 39s 345ms/step - loss: 1.1949 - accuracy: 0.5375 - val_loss: 1.1914 - val_accuracy: 0.5411 - lr: 0.0010\n",
      "Epoch 19/30\n",
      "113/113 [==============================] - 38s 332ms/step - loss: 1.1964 - accuracy: 0.5419 - val_loss: 1.1781 - val_accuracy: 0.5556 - lr: 0.0010\n",
      "Epoch 20/30\n",
      "113/113 [==============================] - 37s 324ms/step - loss: 1.1432 - accuracy: 0.5586 - val_loss: 1.1511 - val_accuracy: 0.5722 - lr: 0.0010\n",
      "Epoch 21/30\n",
      "113/113 [==============================] - 37s 327ms/step - loss: 1.1452 - accuracy: 0.5564 - val_loss: 1.1757 - val_accuracy: 0.5767 - lr: 0.0010\n",
      "Epoch 22/30\n",
      "113/113 [==============================] - 36s 316ms/step - loss: 1.1520 - accuracy: 0.5506 - val_loss: 1.1544 - val_accuracy: 0.5678 - lr: 0.0010\n",
      "Epoch 23/30\n",
      "113/113 [==============================] - 36s 317ms/step - loss: 1.1316 - accuracy: 0.5578 - val_loss: 1.1079 - val_accuracy: 0.5878 - lr: 0.0010\n",
      "Epoch 24/30\n",
      "113/113 [==============================] - 36s 314ms/step - loss: 1.1489 - accuracy: 0.5589 - val_loss: 1.1822 - val_accuracy: 0.5456 - lr: 0.0010\n",
      "Epoch 25/30\n",
      "113/113 [==============================] - 36s 311ms/step - loss: 1.1136 - accuracy: 0.5642 - val_loss: 1.1598 - val_accuracy: 0.5600 - lr: 0.0010\n",
      "Epoch 26/30\n",
      "113/113 [==============================] - 36s 311ms/step - loss: 1.0865 - accuracy: 0.5889 - val_loss: 1.3146 - val_accuracy: 0.5389 - lr: 0.0010\n",
      "Epoch 27/30\n",
      "113/113 [==============================] - 34s 301ms/step - loss: 1.1089 - accuracy: 0.5831 - val_loss: 1.0703 - val_accuracy: 0.6000 - lr: 0.0010\n",
      "Epoch 28/30\n",
      "113/113 [==============================] - 34s 300ms/step - loss: 1.0534 - accuracy: 0.5964 - val_loss: 1.1100 - val_accuracy: 0.5800 - lr: 0.0010\n",
      "Epoch 29/30\n",
      "113/113 [==============================] - 34s 296ms/step - loss: 1.0513 - accuracy: 0.5961 - val_loss: 1.0711 - val_accuracy: 0.5922 - lr: 0.0010\n",
      "Epoch 30/30\n",
      "113/113 [==============================] - 34s 296ms/step - loss: 1.0308 - accuracy: 0.6053 - val_loss: 1.0596 - val_accuracy: 0.6178 - lr: 0.0010\n"
     ]
    }
   ],
   "source": [
    "history = model.fit(train_ds, validation_data=val_ds, epochs=30, callbacks=[reduce_lr])"
   ]
  }
 ],
 "metadata": {
  "kernelspec": {
   "display_name": "Python 3 (ipykernel)",
   "language": "python",
   "name": "python3"
  },
  "language_info": {
   "codemirror_mode": {
    "name": "ipython",
    "version": 3
   },
   "file_extension": ".py",
   "mimetype": "text/x-python",
   "name": "python",
   "nbconvert_exporter": "python",
   "pygments_lexer": "ipython3",
   "version": "3.9.13"
  }
 },
 "nbformat": 4,
 "nbformat_minor": 5
}
